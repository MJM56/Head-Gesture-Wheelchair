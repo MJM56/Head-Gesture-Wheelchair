{
 "cells": [
  {
   "cell_type": "markdown",
   "metadata": {},
   "source": [
    "# **Setup Folders for Collection**"
   ]
  },
  {
   "cell_type": "code",
   "execution_count": 1,
   "metadata": {},
   "outputs": [],
   "source": [
    "import numpy as np\n",
    "import os\n",
    "import cv2 as cv\n",
    "import mediapipe as mp\n",
    "from mediapipe.python.solutions.pose import PoseLandmark\n",
    "import math"
   ]
  },
  {
   "cell_type": "code",
   "execution_count": 2,
   "metadata": {},
   "outputs": [],
   "source": [
    "# DATA_PATH = os.path.join('Sign_Data_Upgrade')\n",
    "# DATA_PATH = os.path.join('My_Temp_Datasets')\n",
    "DATA_PATH = os.path.join('Datasets')\n",
    "\n",
    "# actions = np.array(['maaf', 'tolong', \"terimakasih\", \"nama\", \"saya\", \"kamu\", \"siapa\"])\n",
    "\n",
    "# untuk testing hanya satu per satu dahulu\n",
    "# actions = np.array(['tolong', 'maaf', 'nama', 'kamu', 'siapa'])\n",
    "actions = np.array(['Maju', 'Mundur', 'Kiri', 'Kanan', 'Stop'])\n",
    "\n",
    "# menggunakan xx video\n",
    "# no_sequences = 40\n",
    "\n",
    "# untuk pengambilan data\n",
    "no_sequences = 30\n",
    "\n",
    "# temp_no_sequences = 10\n",
    "# no_sequences = temp_no_sequences\n",
    "\n",
    "\n",
    "# setiap video berisi xx frame (5 frame transition)\n",
    "sequence_length = 30"
   ]
  },
  {
   "cell_type": "code",
   "execution_count": 3,
   "metadata": {},
   "outputs": [],
   "source": [
    "def create_folder(actions, data_path, no_sequences):\n",
    "    for action in actions: \n",
    "        for sequence in range(no_sequences):\n",
    "            try: \n",
    "                os.makedirs(os.path.join(data_path, action, str(sequence)))\n",
    "            except:\n",
    "                pass"
   ]
  },
  {
   "cell_type": "code",
   "execution_count": 4,
   "metadata": {},
   "outputs": [],
   "source": [
    "create_folder(actions, DATA_PATH, no_sequences)\n",
    "#create_folder(actions, DATA_PATH, temp_no_sequences)"
   ]
  },
  {
   "cell_type": "code",
   "execution_count": 5,
   "metadata": {},
   "outputs": [],
   "source": [
    "# # FOR CHANGING FOLDER NUMBER\n",
    "# def change_file_sequence(folder_name, total_sequences, start_next_sequences, actions):\n",
    "#     DATA_PATH_CHANGE = os.path.join(rf'D:\\1 PraTA\\Dataset\\{folder_name}')\n",
    "\n",
    "#     next_folder = start_next_sequences\n",
    "\n",
    "#     for action in actions:\n",
    "#         for new_sequence in range(total_sequences):\n",
    "#             PATH_OLD = os.path.join(DATA_PATH_CHANGE, action, str(new_sequence))\n",
    "#             PATH_NEW = os.path.join(DATA_PATH_CHANGE, action, str(new_sequence + next_folder))\n",
    "\n",
    "#             print(PATH_OLD + \"\\n\")\n",
    "#             print(PATH_NEW)\n",
    "#             print(\"------------\")\n",
    "    \n",
    "#             os.rename(PATH_OLD, PATH_NEW)         "
   ]
  },
  {
   "cell_type": "code",
   "execution_count": 6,
   "metadata": {},
   "outputs": [],
   "source": [
    "# change_file_sequence(DATA_PATH, total_sequences=10, start_next_sequences=20, actions=actions)"
   ]
  },
  {
   "cell_type": "markdown",
   "metadata": {},
   "source": [
    "# **Collect Keypoint Values for Training and Testing**"
   ]
  },
  {
   "cell_type": "code",
   "execution_count": 7,
   "metadata": {},
   "outputs": [],
   "source": [
    "#define mediapipe holistic and drawing utils\n",
    "# mp_holistic = mp.solutions.holistic\n",
    "# mp_drawing = mp.solutions.drawing_utils\n",
    "# mp_drawing_styles = mp.solutions.drawing_styles\n",
    "# mp_pose = mp.solutions.pose\n",
    "# MediaPipe initialization\n",
    "mp_drawing = mp.solutions.drawing_utils\n",
    "mp_face_mesh = mp.solutions.face_mesh"
   ]
  },
  {
   "cell_type": "code",
   "execution_count": 8,
   "metadata": {},
   "outputs": [],
   "source": [
    "#detect using mediapipe model\n",
    "def media_pipe_detection(image, model):\n",
    "    image = cv.cvtColor(image, cv.COLOR_BGR2RGB) \n",
    "    image.flags.writeable = False\n",
    "    results = model.process(image)\n",
    "    image.flags.writeable = True\n",
    "    image = cv.cvtColor(image, cv.COLOR_RGB2BGR) \n",
    "    return image, results"
   ]
  },
  {
   "cell_type": "code",
   "execution_count": 9,
   "metadata": {},
   "outputs": [],
   "source": [
    "# #draw landmarks without style\n",
    "# def draw_land_marks(image, results):\n",
    "#     # mp_drawing.draw_landmarks(image, results.face_landmarks, mp_holistic.FACEMESH_TESSELATION)\n",
    "    \n",
    "#     # mp_drawing.draw_landmarks(image, results.pose_landmarks, mp_holistic.POSE_CONNECTIONS)\n",
    "\n",
    "#     custom_pose_connections = list(mp_pose.POSE_CONNECTIONS)\n",
    "    \n",
    "#     excluded_landmarks = [\n",
    "#         PoseLandmark.NOSE,\n",
    "#         PoseLandmark.LEFT_EYE_INNER,\n",
    "#         PoseLandmark.LEFT_EYE,\n",
    "#         PoseLandmark.LEFT_EYE_OUTER,\n",
    "#         PoseLandmark.RIGHT_EYE_INNER,\n",
    "#         PoseLandmark.RIGHT_EYE,\n",
    "#         PoseLandmark.RIGHT_EYE_OUTER,\n",
    "#         PoseLandmark.LEFT_EAR,\n",
    "#         PoseLandmark.RIGHT_EAR,\n",
    "#         PoseLandmark.MOUTH_LEFT,\n",
    "#         PoseLandmark.MOUTH_RIGHT,\n",
    "#         PoseLandmark.LEFT_HIP,\n",
    "#         PoseLandmark.RIGHT_HIP,\n",
    "#         PoseLandmark.LEFT_KNEE,\n",
    "#         PoseLandmark.RIGHT_KNEE,\n",
    "#         PoseLandmark.LEFT_ANKLE,\n",
    "#         PoseLandmark.RIGHT_ANKLE,\n",
    "#         PoseLandmark.LEFT_HEEL,\n",
    "#         PoseLandmark.RIGHT_HEEL,\n",
    "#         PoseLandmark.LEFT_FOOT_INDEX,\n",
    "#         PoseLandmark.RIGHT_FOOT_INDEX\n",
    "#     ]\n",
    "\n",
    "#     for landmark in excluded_landmarks:\n",
    "#         custom_pose_connections = [connection_tuple for connection_tuple in custom_pose_connections if landmark.value not in connection_tuple]\n",
    "\n",
    "#     mp_drawing.draw_landmarks(image, results.pose_landmarks, connections=custom_pose_connections)\n",
    "#     mp_drawing.draw_landmarks(image, results.left_hand_landmarks, mp_holistic.HAND_CONNECTIONS)\n",
    "#     mp_drawing.draw_landmarks(image, results.right_hand_landmarks, mp_holistic.HAND_CONNECTIONS)\n",
    "\n",
    "# Draw landmarks without style\n",
    "def draw_landmarks(image, results):\n",
    "    if results.multi_face_landmarks:\n",
    "        for face_landmarks in results.multi_face_landmarks:\n",
    "            # Draw the facial landmarks with specified drawing specs.\n",
    "            mp_drawing.draw_landmarks(\n",
    "                image=image,\n",
    "                landmark_list=face_landmarks,\n",
    "                connections=mp_face_mesh.FACEMESH_TESSELATION,\n",
    "                landmark_drawing_spec=mp_drawing.DrawingSpec(color=(0, 255, 0), thickness=1, circle_radius=1),\n",
    "                connection_drawing_spec=mp_drawing.DrawingSpec(color=(0, 255, 0), thickness=1)\n",
    "            )\n"
   ]
  },
  {
   "cell_type": "code",
   "execution_count": 10,
   "metadata": {},
   "outputs": [],
   "source": [
    "# def extract_keypoints(results):\n",
    "#     # face = np.array([[res.x, res.y] for res in results.face_landmarks.landmark]).flatten() if results.face_landmarks else np.zeros(468*2)\n",
    "\n",
    "#     # pose = np.array([[res.x, res.y] for res in results.pose_landmarks.landmark]).flatten() if results.pose_landmarks else np.zeros(33*2)\n",
    "\n",
    "#     if results.pose_landmarks:\n",
    "#         selected_pose_landmarks = results.pose_landmarks.landmark[11:23]\n",
    "#         pose = np.array([[res.x, res.y] for res in selected_pose_landmarks]).flatten()\n",
    "#     else:\n",
    "#         pose = np.zeros(22*2)\n",
    "\n",
    "        \n",
    "#     left_hand = np.array([[res.x, res.y] for res in results.left_hand_landmarks.landmark]).flatten() if results.left_hand_landmarks else np.zeros(21*2)\n",
    "#     right_hand = np.array([[res.x, res.y] for res in results.right_hand_landmarks.landmark]).flatten() if results.right_hand_landmarks else np.zeros(21*2)\n",
    "   \n",
    "#     # return np.concatenate([pose, face, left_hand, right_hand])\n",
    "#     return np.concatenate([pose, left_hand, right_hand])\n",
    "\n",
    "def extract_keypoints(results):\n",
    "    if results.multi_face_landmarks:\n",
    "        face = np.array([[res.x, res.y, res.z] for landmark in results.multi_face_landmarks for res in landmark.landmark]).flatten()\n",
    "    else:\n",
    "        face = np.zeros(468*3)\n",
    "    return face\n"
   ]
  },
  {
   "cell_type": "code",
   "execution_count": 11,
   "metadata": {},
   "outputs": [
    {
     "ename": "FileNotFoundError",
     "evalue": "[Errno 2] No such file or directory: 'D:/1 PraTA/Dataset\\\\Maju\\\\0\\\\0.npy'",
     "output_type": "error",
     "traceback": [
      "\u001b[1;31m---------------------------------------------------------------------------\u001b[0m",
      "\u001b[1;31mFileNotFoundError\u001b[0m                         Traceback (most recent call last)",
      "\u001b[1;32md:\\1 PraTA\\Code\\CNN\\collect_dataset.ipynb Cell 13\u001b[0m line \u001b[0;36m8\n\u001b[0;32m     <a href='vscode-notebook-cell:/d%3A/1%20PraTA/Code/CNN/collect_dataset.ipynb#X15sZmlsZQ%3D%3D?line=83'>84</a>\u001b[0m         keypoints \u001b[39m=\u001b[39m extract_keypoints(results)  \u001b[39m# Make sure you have defined this function\u001b[39;00m\n\u001b[0;32m     <a href='vscode-notebook-cell:/d%3A/1%20PraTA/Code/CNN/collect_dataset.ipynb#X15sZmlsZQ%3D%3D?line=84'>85</a>\u001b[0m         npy_path \u001b[39m=\u001b[39m os\u001b[39m.\u001b[39mpath\u001b[39m.\u001b[39mjoin(DATA_PATH, action, \u001b[39mstr\u001b[39m(sequence), \u001b[39mstr\u001b[39m(frame_num))\n\u001b[1;32m---> <a href='vscode-notebook-cell:/d%3A/1%20PraTA/Code/CNN/collect_dataset.ipynb#X15sZmlsZQ%3D%3D?line=85'>86</a>\u001b[0m         np\u001b[39m.\u001b[39;49msave(npy_path, keypoints)\n\u001b[0;32m     <a href='vscode-notebook-cell:/d%3A/1%20PraTA/Code/CNN/collect_dataset.ipynb#X15sZmlsZQ%3D%3D?line=87'>88</a>\u001b[0m \u001b[39mif\u001b[39;00m cv\u001b[39m.\u001b[39mwaitKey(\u001b[39m5\u001b[39m) \u001b[39m&\u001b[39m \u001b[39m0xFF\u001b[39m \u001b[39m==\u001b[39m \u001b[39mord\u001b[39m(\u001b[39m'\u001b[39m\u001b[39mq\u001b[39m\u001b[39m'\u001b[39m):\n\u001b[0;32m     <a href='vscode-notebook-cell:/d%3A/1%20PraTA/Code/CNN/collect_dataset.ipynb#X15sZmlsZQ%3D%3D?line=88'>89</a>\u001b[0m     \u001b[39mbreak\u001b[39;00m\n",
      "File \u001b[1;32m<__array_function__ internals>:180\u001b[0m, in \u001b[0;36msave\u001b[1;34m(*args, **kwargs)\u001b[0m\n",
      "File \u001b[1;32mc:\\Users\\asus\\AppData\\Local\\Programs\\Python\\Python311\\Lib\\site-packages\\numpy\\lib\\npyio.py:518\u001b[0m, in \u001b[0;36msave\u001b[1;34m(file, arr, allow_pickle, fix_imports)\u001b[0m\n\u001b[0;32m    516\u001b[0m     \u001b[39mif\u001b[39;00m \u001b[39mnot\u001b[39;00m file\u001b[39m.\u001b[39mendswith(\u001b[39m'\u001b[39m\u001b[39m.npy\u001b[39m\u001b[39m'\u001b[39m):\n\u001b[0;32m    517\u001b[0m         file \u001b[39m=\u001b[39m file \u001b[39m+\u001b[39m \u001b[39m'\u001b[39m\u001b[39m.npy\u001b[39m\u001b[39m'\u001b[39m\n\u001b[1;32m--> 518\u001b[0m     file_ctx \u001b[39m=\u001b[39m \u001b[39mopen\u001b[39;49m(file, \u001b[39m\"\u001b[39;49m\u001b[39mwb\u001b[39;49m\u001b[39m\"\u001b[39;49m)\n\u001b[0;32m    520\u001b[0m \u001b[39mwith\u001b[39;00m file_ctx \u001b[39mas\u001b[39;00m fid:\n\u001b[0;32m    521\u001b[0m     arr \u001b[39m=\u001b[39m np\u001b[39m.\u001b[39masanyarray(arr)\n",
      "\u001b[1;31mFileNotFoundError\u001b[0m: [Errno 2] No such file or directory: 'D:/1 PraTA/Dataset\\\\Maju\\\\0\\\\0.npy'"
     ]
    },
    {
     "ename": "",
     "evalue": "",
     "output_type": "error",
     "traceback": [
      "\u001b[1;31mThe Kernel crashed while executing code in the the current cell or a previous cell. Please review the code in the cell(s) to identify a possible cause of the failure. Click <a href='https://aka.ms/vscodeJupyterKernelCrash'>here</a> for more info. View Jupyter <a href='command:jupyter.viewOutput'>log</a> for further details."
     ]
    }
   ],
   "source": [
    "# cap = cv.VideoCapture(0)\n",
    "# with mp_holistic.Holistic(min_detection_confidence=0.5, min_tracking_confidence=0.5) as holistic:\n",
    "\n",
    "#     for action in actions:\n",
    "#         for sequence in range(no_sequences):\n",
    "#             for frame_num in range(sequence_length):\n",
    "\n",
    "#                 ret, frame = cap.read()\n",
    "\n",
    "#                 image, results = media_pipe_detection(frame, holistic)\n",
    "                \n",
    "#                 #get ready for capture current sequence\n",
    "#                 if frame_num == 0: \n",
    "#                     cv.putText(image, 'STARTING COLLECTION', (120,200), \n",
    "#                                cv.FONT_HERSHEY_SIMPLEX, 1, (0,255, 0), 4, cv.LINE_AA)\n",
    "#                     cv.putText(image, 'Collecting frames for {} Video Number {}'.format(action, sequence), (15,12), \n",
    "#                                cv.FONT_HERSHEY_SIMPLEX, 0.5, (0, 0, 255), 2, cv.LINE_AA)\n",
    "#                     cv.imshow('OpenCV Feed', image)\n",
    "#                     cv.waitKey(5000)\n",
    "                \n",
    "#                 #prepare for next sequence\n",
    "#                 elif frame_num == sequence_length - 1 :\n",
    "#                     cv.putText(image, 'NEXT SEQUENCE', (120,200), \n",
    "#                                cv.FONT_HERSHEY_SIMPLEX, 1, (0,255, 0), 4, cv.LINE_AA)\n",
    "#                     cv.imshow('OpenCV Feed', image)\n",
    "#                     cv.waitKey(5000)\n",
    "\n",
    "#                 else: \n",
    "#                     cv.putText(image, 'Collecting frames for {} Video Number {}'.format(action, sequence), (15,12), \n",
    "#                                cv.FONT_HERSHEY_SIMPLEX, 0.5, (0, 0, 255), 2, cv.LINE_AA)\n",
    "#                     cv.imshow('OpenCV Feed', image)\n",
    "\n",
    "#                 black_bg = np.zeros((frame.shape[0], frame.shape[1], frame.shape[2]))\n",
    "\n",
    "#                 draw_land_marks(image, results)\n",
    "#                 draw_land_marks(black_bg, results)\n",
    "\n",
    "#                 cv.imwrite(os.path.join(DATA_PATH, action, str(sequence), f\"{frame_num}-clear.jpg\"), frame)\n",
    "#                 cv.imwrite(os.path.join(DATA_PATH, action, str(sequence), f\"{frame_num}.jpg\"), image)\n",
    "#                 cv.imwrite(os.path.join(DATA_PATH, action, str(sequence), f\"{frame_num}-black.jpg\"), black_bg)\n",
    "                \n",
    "#                 keypoints = extract_keypoints(results)\n",
    "#                 npy_path = os.path.join(DATA_PATH, action, str(sequence), str(frame_num))\n",
    "#                 np.save(npy_path, keypoints)\n",
    "\n",
    "#                 if cv.waitKey(10) & 0xFF == ord('q'):\n",
    "#                     break\n",
    "                    \n",
    "#     cap.release()\n",
    "#     cv.destroyAllWindows()\n",
    "\n",
    "# Initialize video capture\n",
    "cap = cv.VideoCapture(0)\n",
    "with mp_face_mesh.FaceMesh(min_detection_confidence=0.5, min_tracking_confidence=0.5) as face_mesh:\n",
    "\n",
    "    # Define actions, no_sequences, sequence_length, and DATA_PATH here\n",
    "    actions = ['Maju', 'Mundur', 'Kiri', 'Kanan', 'Stop']  # replace with your actual actions\n",
    "    no_sequences = 5\n",
    "    sequence_length = 30\n",
    "    DATA_PATH = 'D:/1 PraTA/Dataset'  # replace with your actual data path\n",
    "\n",
    "    for action in actions:\n",
    "        for sequence in range(no_sequences):\n",
    "            for frame_num in range(sequence_length):\n",
    "\n",
    "                ret, frame = cap.read()\n",
    "                if not ret:\n",
    "                    print(\"Ignoring empty camera frame.\")\n",
    "                    continue\n",
    "\n",
    "                # Convert the BGR image to RGB and process it with MediaPipe Face Mesh.\n",
    "                image = cv.cvtColor(frame, cv.COLOR_BGR2RGB)\n",
    "                results = face_mesh.process(image)\n",
    "\n",
    "                # Draw the face mesh annotations on the image.\n",
    "                image.flags.writeable = True\n",
    "                image = cv.cvtColor(image, cv.COLOR_RGB2BGR)\n",
    "                draw_landmarks(image, results)  # Make sure you have defined this function\n",
    "\n",
    "                # Display the image\n",
    "                cv.imshow('MediaPipe FaceMesh', image)\n",
    "\n",
    "                # Save keypoints data\n",
    "                keypoints = extract_keypoints(results)  # Make sure you have defined this function\n",
    "                npy_path = os.path.join(DATA_PATH, action, str(sequence), str(frame_num))\n",
    "                np.save(npy_path, keypoints)\n",
    "\n",
    "        if cv.waitKey(5) & 0xFF == ord('q'):\n",
    "            break\n",
    "\n",
    "cap.release()\n",
    "cv.destroyAllWindows()"
   ]
  },
  {
   "cell_type": "code",
   "execution_count": null,
   "metadata": {},
   "outputs": [],
   "source": [
    "cap.release()\n",
    "cv.destroyAllWindows()"
   ]
  },
  {
   "cell_type": "markdown",
   "metadata": {},
   "source": [
    "# **Normalize Datasets**"
   ]
  },
  {
   "cell_type": "code",
   "execution_count": null,
   "metadata": {},
   "outputs": [],
   "source": [
    "coor_x = []\n",
    "coor_y = []\n",
    "coordinates = []\n",
    "\n",
    "for action in actions:\n",
    "     for sequence in np.array(os.listdir(os.path.join(DATA_PATH, action))).astype(int):\n",
    "        for frame_num in range(sequence_length):\n",
    "            res = np.load(os.path.join(DATA_PATH, action, str(sequence), \"{}.npy\".format(frame_num + 1)))\n",
    "            for index, coor in enumerate(res):\n",
    "                coordinates.append(coor)\n",
    "\n",
    "                if(index % 2 != 0):\n",
    "                    coor_x.append(coor)\n",
    "                else:\n",
    "                    coor_y.append(coor)"
   ]
  },
  {
   "cell_type": "code",
   "execution_count": null,
   "metadata": {},
   "outputs": [
    {
     "name": "stdout",
     "output_type": "stream",
     "text": [
      "194400\n"
     ]
    }
   ],
   "source": [
    "print(len(coordinates))"
   ]
  },
  {
   "cell_type": "code",
   "execution_count": null,
   "metadata": {},
   "outputs": [],
   "source": [
    "midpoint_x = (coor_x[0] + coor_x[1])/2\n",
    "midpoint_y = (coor_y[0] + coor_y[1])/2\n",
    "\n",
    "# delta_x = midpoint_x - frame_width/2\n",
    "# delta_y = midpoint_y - frame_height/2\n",
    "\n",
    "shoulder_delta_x = coor_x[1] - coor_x[0]\n",
    "shoulder_delta_y = coor_y[1] - coor_y[0]\n",
    "shoulder_width = math.sqrt(pow(shoulder_delta_x, 2) + pow(shoulder_delta_y, 2))"
   ]
  },
  {
   "cell_type": "code",
   "execution_count": null,
   "metadata": {},
   "outputs": [],
   "source": [
    "def normalization(midpoint_x, midpoint_y, shoulder_width, coordinates):\n",
    "    print(\"Koordinat awal:\")\n",
    "    print(\"Max: \" + str(max(coordinates)))\n",
    "    print(\"Min: \" + str(min(coordinates)))\n",
    "\n",
    "\n",
    "    for index, coor in enumerate(coordinates):\n",
    "        \n",
    "        #position invariant\n",
    "        if(index % 2 != 0):\n",
    "            coordinates[index] -= midpoint_x\n",
    "        else:\n",
    "            coordinates[index] -= midpoint_y\n",
    "\n",
    "        #scale invariant\n",
    "        coordinates[index] /= shoulder_width\n",
    "\n",
    "    print(\"\\nKoordinat normalisasi:\")\n",
    "    print(\"Max: \" + str(max(coordinates)))\n",
    "    print(\"Min: \" + str(min(coordinates)))\n",
    "    return coordinates\n",
    "\n",
    "def save_normalization(paths, actions, no_sequences, sequence_length, coor_norm):\n",
    "    total_landmarks = 108\n",
    "    temp_index = 0\n",
    "\n",
    "    for action in actions:\n",
    "        for sequence in range(no_sequences):\n",
    "            for frame_num in range(sequence_length):\n",
    "                saved_coor_norm = coor_norm[temp_index:temp_index+total_landmarks]\n",
    "\n",
    "                norm_npy_path = os.path.join(paths, action, str(sequence), str(frame_num + 1) + \"-norm\")\n",
    "                np.save(norm_npy_path, saved_coor_norm)\n",
    "\n",
    "                temp_index += total_landmarks"
   ]
  },
  {
   "cell_type": "code",
   "execution_count": null,
   "metadata": {},
   "outputs": [
    {
     "name": "stdout",
     "output_type": "stream",
     "text": [
      "Koordinat awal:\n",
      "Max: 1.0613200664520264\n",
      "Min: 0.0\n",
      "\n",
      "Koordinat normalisasi:\n",
      "Max: 3.938435094378623\n",
      "Min: -2.9151389299256523\n"
     ]
    }
   ],
   "source": [
    "normalized_coor = normalization(midpoint_x, midpoint_y, shoulder_width, coordinates)\n",
    "\n",
    "save_normalization(DATA_PATH, actions, no_sequences, sequence_length, normalized_coor)"
   ]
  },
  {
   "cell_type": "code",
   "execution_count": null,
   "metadata": {},
   "outputs": [],
   "source": [
    "check_coordinates = []\n",
    "\n",
    "for action in actions:\n",
    "     for sequence in np.array(os.listdir(os.path.join(DATA_PATH, action))).astype(int):\n",
    "        for frame_num in range(sequence_length):\n",
    "            res = np.load(os.path.join(DATA_PATH, action, str(sequence), \"{}-norm.npy\".format(frame_num+1)))\n",
    "            for index, coor in enumerate(res):\n",
    "                check_coordinates.append(coor)"
   ]
  },
  {
   "cell_type": "code",
   "execution_count": null,
   "metadata": {},
   "outputs": [
    {
     "name": "stdout",
     "output_type": "stream",
     "text": [
      "194400\n",
      "Max: 3.938435094378623\n",
      "Min: -2.9151389299256523\n"
     ]
    }
   ],
   "source": [
    "print(len(check_coordinates))\n",
    "print(\"Max: \" + str(max(check_coordinates)))\n",
    "print(\"Min: \" + str(min(check_coordinates)))"
   ]
  },
  {
   "cell_type": "code",
   "execution_count": null,
   "metadata": {},
   "outputs": [
    {
     "name": "stdout",
     "output_type": "stream",
     "text": [
      "259200\n",
      "0.44267737865448\n",
      "259200\n",
      "108\n"
     ]
    }
   ],
   "source": [
    "# print(len(coor_x) * 2)\n",
    "# print(coor_x[0])\n",
    "# print(2*30*40*108)\n",
    "# print(12*2 + 21 * 2 * 2)"
   ]
  },
  {
   "cell_type": "code",
   "execution_count": null,
   "metadata": {},
   "outputs": [
    {
     "data": {
      "text/plain": [
       "194400"
      ]
     },
     "execution_count": 27,
     "metadata": {},
     "output_type": "execute_result"
    }
   ],
   "source": [
    "108*30*30*2"
   ]
  }
 ],
 "metadata": {
  "kernelspec": {
   "display_name": "Python 3",
   "language": "python",
   "name": "python3"
  },
  "language_info": {
   "codemirror_mode": {
    "name": "ipython",
    "version": 3
   },
   "file_extension": ".py",
   "mimetype": "text/x-python",
   "name": "python",
   "nbconvert_exporter": "python",
   "pygments_lexer": "ipython3",
   "version": "3.11.5"
  }
 },
 "nbformat": 4,
 "nbformat_minor": 2
}
